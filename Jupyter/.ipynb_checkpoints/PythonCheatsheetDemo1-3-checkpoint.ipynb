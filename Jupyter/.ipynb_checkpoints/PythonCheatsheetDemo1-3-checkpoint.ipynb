{
 "cells": [
  {
   "cell_type": "code",
   "execution_count": 44,
   "id": "fc2b687b-b12e-42b7-b102-0fb6ec32ff7d",
   "metadata": {},
   "outputs": [
    {
     "name": "stdout",
     "output_type": "stream",
     "text": [
      "This is the result: 2\n",
      "This is the other result: 25\n"
     ]
    }
   ],
   "source": [
    "#This document serves to be sort of a referrence demo to show and catalog all the python I've used so far\n",
    "#Includes Hello World, Control Flow, & Lists\n",
    "\n",
    "#Hello World Cheatsheet examples\n",
    "\n",
    "#This is a comment\n",
    "\n",
    "# % for modulus, ** for exponents\n",
    "\n",
    "result = 52 % 5\n",
    "other_result = 5 ** 2\n",
    "print (\"This is the result: \" + str(result))\n",
    "print(\"This is the other result: \" + str(other_result))"
   ]
  },
  {
   "cell_type": "code",
   "execution_count": 45,
   "id": "81144994-a661-4154-92d7-d8db3d4ecd0f",
   "metadata": {},
   "outputs": [
    {
     "name": "stdout",
     "output_type": "stream",
     "text": [
      "This is start: 0\n",
      "This is it incremented with += 10: 10\n"
     ]
    }
   ],
   "source": [
    "# += and -= increment/decremenet\n",
    "\n",
    "start = 0\n",
    "print(\"This is start: \" + str(start))\n",
    "start += 10\n",
    "print(\"This is it incremented with += 10: \" + str(start))"
   ]
  },
  {
   "cell_type": "code",
   "execution_count": 46,
   "id": "fb02d197-0f1c-4c99-b098-6309d78c4c69",
   "metadata": {},
   "outputs": [
    {
     "name": "stdout",
     "output_type": "stream",
     "text": [
      "Example\n",
      "This is another Example\n"
     ]
    }
   ],
   "source": [
    "#variables are typically named as a single word or multiple with underscores seperating words\n",
    "\n",
    "example = \"Example\"\n",
    "\n",
    "this_is_another_example = \"This is another Example\"\n",
    "\n",
    "print (example)\n",
    "print(this_is_another_example)"
   ]
  },
  {
   "cell_type": "code",
   "execution_count": 47,
   "id": "e1339111-4111-4cba-ad03-fb554451a15f",
   "metadata": {},
   "outputs": [
    {
     "name": "stdout",
     "output_type": "stream",
     "text": [
      "This is an example of a string over multiple lines\n"
     ]
    }
   ],
   "source": [
    "#strings can be made with either '' or \"\" and can be broken with \\ over multiple lines\n",
    "\n",
    "this = 'This is an example \\\n",
    "of a string over multiple lines'\n",
    "print(this)"
   ]
  },
  {
   "cell_type": "code",
   "execution_count": 48,
   "id": "ffd2b451-aaec-4cba-81f2-6906e15bc071",
   "metadata": {},
   "outputs": [
    {
     "name": "stdout",
     "output_type": "stream",
     "text": [
      "Example\n",
      "This is another Example\n",
      "This is an example of a string over multiple lines\n"
     ]
    }
   ],
   "source": [
    "#variables are typically named as a single word or multiple with underscores seperating words\n",
    "\n",
    "example = \"Example\"\n",
    "\n",
    "this_is_another_example = \"This is another Example\"\n",
    "\n",
    "print (example)\n",
    "print(this_is_another_example)\n",
    "\n",
    "#strings can be made with either '' or \"\" and can be broken with \\ over multiple lines\n",
    "\n",
    "this = 'This is an example \\\n",
    "of a string over multiple lines'\n",
    "print(this)"
   ]
  },
  {
   "cell_type": "code",
   "execution_count": 49,
   "id": "a1243b61-ea4d-494d-acce-2c729337edc7",
   "metadata": {},
   "outputs": [
    {
     "name": "stdout",
     "output_type": "stream",
     "text": [
      "0.7619047619047619\n"
     ]
    }
   ],
   "source": [
    "#floating point numbers can be shown, but be warned, they are not accurate after so many decimal points\n",
    "\n",
    "fp = 32/42\n",
    "print(fp)\n",
    "\n",
    "#print outputs to the console, please make note that what is passed shoud be one data type, thus the earlier casts as strings: str() "
   ]
  },
  {
   "cell_type": "code",
   "execution_count": 50,
   "id": "761b69cd-d862-42e9-b745-87ef04020c34",
   "metadata": {},
   "outputs": [
    {
     "name": "stdout",
     "output_type": "stream",
     "text": [
      "What is updog?\n"
     ]
    }
   ],
   "source": [
    "#Control Flow\n",
    "\n",
    "#elif statements, take note of the indentation\n",
    "pet_type = \"updog\" #modify this as the answer\n",
    "\n",
    "if pet_type == \"dog\":\n",
    "  print(\"You have a dog.\")\n",
    "elif pet_type == \"cat\":\n",
    "  print(\"You have a cat.\")\n",
    "elif pet_type == \"fish\":\n",
    "  # this is performed\n",
    "  print(\"You have a fish\")\n",
    "else:\n",
    "  print(\"What is \" + pet_type + \"?\")"
   ]
  },
  {
   "cell_type": "code",
   "execution_count": 51,
   "id": "7a31f690-5528-424b-8f53-dbc77d2ad601",
   "metadata": {},
   "outputs": [],
   "source": [
    "# or(returns true if either is true) and == (returns true ONLY if both are equal, including data type)\n",
    "\n",
    "# != (checks to see if not true)\n",
    "\n",
    "# <, >, <=, => (less than, greater than, less than or equal, greater than or equal)\n",
    "\n",
    "#if (checks if conditions met, executes code if true)\n",
    "\n",
    "#else (code used if prior if statement is found false)\n",
    "\n",
    "#and (returns true if both statements are true)\n",
    "\n",
    "#not (returns the opposite value, IE not false returns true)"
   ]
  },
  {
   "cell_type": "code",
   "execution_count": 52,
   "id": "6cd6d046-3efb-4fb1-b162-478eaa531d64",
   "metadata": {},
   "outputs": [
    {
     "name": "stdout",
     "output_type": "stream",
     "text": [
      "[2, 3, 5, 7, 11]\n"
     ]
    }
   ],
   "source": [
    "#Lists\n",
    "\n",
    "#lists are values in [] seperated by commas \n",
    "\n",
    "primes = [2, 3, 5, 7, 11]\n",
    "print(primes)"
   ]
  },
  {
   "cell_type": "code",
   "execution_count": 53,
   "id": "b84bf8c7-5646-4afe-9b08-10b0d34a934f",
   "metadata": {},
   "outputs": [
    {
     "name": "stdout",
     "output_type": "stream",
     "text": [
      "['cake', 'cookie', 'bread', 'biscuit', 'tart']\n"
     ]
    }
   ],
   "source": [
    "#can add multiple items:\n",
    "items = ['cake', 'cookie', 'bread']\n",
    "total_items = items + ['biscuit', 'tart']\n",
    "print(total_items)"
   ]
  },
  {
   "cell_type": "code",
   "execution_count": 54,
   "id": "db08a9a4-65f3-4c41-8627-dacd30f75697",
   "metadata": {},
   "outputs": [],
   "source": [
    "#lists can be different data types and multiple data types:\n",
    "\n",
    "numbers = [1, 2, 3, 4, 10]\n",
    "names = ['Jenny', 'Sam', 'Alexis']\n",
    "mixed = ['Jenny', 1, 2]\n",
    "list_of_lists = [['a', 1], ['b', 2]]"
   ]
  },
  {
   "cell_type": "code",
   "execution_count": 55,
   "id": "c3a7a78d-d38b-4597-89a8-3a2f5beafefa",
   "metadata": {},
   "outputs": [
    {
     "name": "stdout",
     "output_type": "stream",
     "text": [
      "['daisies', 'periwinkle', 'tulips']\n"
     ]
    }
   ],
   "source": [
    "#to add one item to a list, use .append()\n",
    "orders = ['daisies', 'periwinkle']\n",
    "orders.append('tulips')\n",
    "print(orders)"
   ]
  },
  {
   "cell_type": "code",
   "execution_count": 56,
   "id": "4008f875-f772-4f80-83c7-6e02a5cb94d5",
   "metadata": {},
   "outputs": [
    {
     "name": "stdout",
     "output_type": "stream",
     "text": [
      "blueberry\n",
      "raspberry\n"
     ]
    }
   ],
   "source": [
    "#lists use zero indexing, meaning the first item is 0, second is 1...\n",
    "berries = [\"blueberry\", \"cranberry\", \"raspberry\"]\n",
    "\n",
    "print(berries[0])\n",
    "print(berries[2])"
   ]
  },
  {
   "cell_type": "code",
   "execution_count": 57,
   "id": "fae43de2-bae2-4852-835b-59b29c3337ec",
   "metadata": {},
   "outputs": [
    {
     "name": "stdout",
     "output_type": "stream",
     "text": [
      "laksa\n",
      "['lentil', 'pho', 'laksa']\n",
      "['minestrone', 'lentil']\n"
     ]
    }
   ],
   "source": [
    "#negative indexing references from the end of the list. -1 is the last element, -2 next to last..\n",
    "\n",
    "#you can also put a : which basically continues the list based on the side the : is put on\n",
    "#note that putting it before does not include the element selected\n",
    "\n",
    "soups = ['minestrone', 'lentil', 'pho', 'laksa']\n",
    "print(soups[-1])\n",
    "print(soups[-3:])\n",
    "print(soups[:-2])"
   ]
  },
  {
   "cell_type": "code",
   "execution_count": 58,
   "id": "9f8e7f3d-388a-433e-8f5f-b187b1391dda",
   "metadata": {},
   "outputs": [
    {
     "name": "stdout",
     "output_type": "stream",
     "text": [
      "[['Jenny', 'Meditation'], ['Alexus', 'Photography'], ['Grace', 'Soccer']]\n"
     ]
    }
   ],
   "source": [
    "# A 2D list of names and hobbies\n",
    "class_name_hobbies = [[\"Jenny\", \"Breakdancing\"], [\"Alexus\", \"Photography\"], [\"Grace\", \"Soccer\"]]\n",
    "\n",
    "# The sublist of Jenny is at index 0. The hobby is at index 1 of the sublist. \n",
    "class_name_hobbies[0][1] = \"Meditation\"\n",
    "print(class_name_hobbies)\n",
    "\n",
    "# Output\n",
    "# [[\"Jenny\", \"Meditation\"], [\"Alexus\", \"Photography\"], [\"Grace\", \"Soccer\"]]"
   ]
  },
  {
   "cell_type": "code",
   "execution_count": 59,
   "id": "27434bcb-fd8e-4115-bd44-1109aee9ae68",
   "metadata": {},
   "outputs": [
    {
     "name": "stdout",
     "output_type": "stream",
     "text": [
      "61\n"
     ]
    }
   ],
   "source": [
    "# 2D list of people's heights\n",
    "heights = [[\"Noelle\", 61], [\"Ali\", 70], [\"Sam\", 67]]\n",
    "# Access the sublist at index 0, and then access the 1st index of that sublist. \n",
    "noelles_height = heights[0][1] \n",
    "print(noelles_height)\n",
    "\n",
    "# Output\n",
    "# 61"
   ]
  },
  {
   "cell_type": "code",
   "execution_count": 60,
   "id": "35d14c6f-d010-4b0c-bca7-c5a2a4d24574",
   "metadata": {},
   "outputs": [
    {
     "name": "stdout",
     "output_type": "stream",
     "text": [
      "['Cole', 'Kip', 'Sylvana', 'Chris']\n"
     ]
    }
   ],
   "source": [
    "# Create a list\n",
    "shopping_line = [\"Cole\", \"Kip\", \"Chris\", \"Sylvana\", \"Chris\"]\n",
    " \n",
    "# Removes the first occurance of \"Chris\"\n",
    "shopping_line.remove(\"Chris\")\n",
    "print(shopping_line)\n",
    "\n",
    "# Output\n",
    "# [\"Cole\", \"Kip\", \"Sylvana\", \"Chris\"]"
   ]
  },
  {
   "cell_type": "code",
   "execution_count": 61,
   "id": "b9ceb8b7-51c7-41f9-be2d-40c21142e446",
   "metadata": {},
   "outputs": [
    {
     "name": "stdout",
     "output_type": "stream",
     "text": [
      "6\n",
      "1\n",
      "1\n"
     ]
    }
   ],
   "source": [
    "my_tuple = ('abc', 123, 'def', 456, 789, 'ghi')\n",
    "\n",
    "print(len(my_tuple)) # returns length of tuple\n",
    "#print(max(my_tuple)) # returns maximum value of tuple, broken\n",
    "#print(min(my_tuple)) # returns maximum value of tuple, broken\n",
    "print(my_tuple.index(123)) # returns the position of the value 123\n",
    "print(my_tuple.count('abc')) # returns the number of occurrences of the value 'abc'\n"
   ]
  },
  {
   "cell_type": "code",
   "execution_count": 62,
   "id": "cc593c41-f60f-4c2d-83ce-a938ec1f9cbf",
   "metadata": {},
   "outputs": [
    {
     "name": "stdout",
     "output_type": "stream",
     "text": [
      "3\n"
     ]
    }
   ],
   "source": [
    "backpack = ['pencil', 'pen', 'notebook', 'textbook', 'pen', 'highlighter', 'pen']\n",
    "numPen = backpack.count('pen')\n",
    "\n",
    "print(numPen)\n",
    "# Output: 3"
   ]
  },
  {
   "cell_type": "code",
   "execution_count": 63,
   "id": "a3b0001b-38b9-4a2c-9e90-eab4fcf4a2bc",
   "metadata": {},
   "outputs": [
    {
     "name": "stdout",
     "output_type": "stream",
     "text": [
      "5\n"
     ]
    }
   ],
   "source": [
    "knapsack = [2, 4, 3, 7, 10]\n",
    "size = len(knapsack)\n",
    "print(size) \n",
    "# Output: 5"
   ]
  },
  {
   "cell_type": "code",
   "execution_count": 64,
   "id": "fc52a804-a1ff-4566-88bf-885b057e0b80",
   "metadata": {},
   "outputs": [
    {
     "name": "stdout",
     "output_type": "stream",
     "text": [
      "[1, 2, 3, 4]\n"
     ]
    }
   ],
   "source": [
    "exampleList = [4, 2, 1, 3]\n",
    "exampleList.sort()\n",
    "print(exampleList)\n",
    "# Output: [1, 2, 3, 4]"
   ]
  },
  {
   "cell_type": "code",
   "execution_count": 65,
   "id": "9feb8a52-6724-414f-ad30-e1ae7d1f5079",
   "metadata": {},
   "outputs": [
    {
     "name": "stdout",
     "output_type": "stream",
     "text": [
      "['pen', 'hammer', 'lever']\n",
      "['nail', 'lever']\n"
     ]
    }
   ],
   "source": [
    "tools = ['pen', 'hammer', 'lever']\n",
    "tools_slice = tools[1:3] # ['hammer', 'lever'], note the end does not include that element, thus 3 not 2\n",
    "tools_slice[0] = 'nail' #overwrites \"hammer\"\n",
    "\n",
    "# Original list is unaltered:\n",
    "print(tools) # ['pen', 'hammer', 'lever']\n",
    "print(tools_slice)"
   ]
  },
  {
   "cell_type": "code",
   "execution_count": 66,
   "id": "7d307b67-97f7-45c3-914c-d24ae884eed0",
   "metadata": {},
   "outputs": [
    {
     "name": "stdout",
     "output_type": "stream",
     "text": [
      "[1, 2, 3, 4]\n"
     ]
    }
   ],
   "source": [
    "unsortedList = [4, 2, 1, 3]\n",
    "sortedList = sorted(unsortedList)\n",
    "print(sortedList)\n",
    "# Output: [1, 2, 3, 4]"
   ]
  },
  {
   "cell_type": "code",
   "execution_count": 67,
   "id": "f886b6b9-feaf-42a3-8c75-ac0aacbb751b",
   "metadata": {},
   "outputs": [
    {
     "name": "stdout",
     "output_type": "stream",
     "text": [
      "['Karla', 'Maxium', 'Vikor', 'Martim', 'Isabella']\n"
     ]
    }
   ],
   "source": [
    "# Here is a list representing a line of people at a store\n",
    "store_line = [\"Karla\", \"Maxium\", \"Martim\", \"Isabella\"]\n",
    "\n",
    "# Here is how to insert \"Vikor\" after \"Maxium\" and before \"Martim\"\n",
    "store_line.insert(2, \"Vikor\")\n",
    "\n",
    "print(store_line) \n",
    "# Output: ['Karla', 'Maxium', 'Vikor', 'Martim', 'Isabella']"
   ]
  },
  {
   "cell_type": "code",
   "execution_count": 68,
   "id": "7e3680c4-c8b6-4ae8-a21c-13209fd5abc1",
   "metadata": {},
   "outputs": [
    {
     "name": "stdout",
     "output_type": "stream",
     "text": [
      "['Python', 'Data Structures', 'Balloon Making', 'Algorithms']\n",
      "Clowns 101\n",
      "['Python', 'Data Structures', 'Algorithms']\n"
     ]
    }
   ],
   "source": [
    "cs_topics = [\"Python\", \"Data Structures\", \"Balloon Making\", \"Algorithms\", \"Clowns 101\"]\n",
    "\n",
    "# Pop the last element\n",
    "removed_element = cs_topics.pop()\n",
    "\n",
    "print(cs_topics)\n",
    "print(removed_element)\n",
    "\n",
    "# Output:\n",
    "# ['Python', 'Data Structures', 'Balloon Making', 'Algorithms']\n",
    "# 'Clowns 101'\n",
    "\n",
    "# Pop the element \"Baloon Making\"\n",
    "cs_topics.pop(2)\n",
    "print(cs_topics)\n",
    "\n",
    "# Output:\n",
    "# ['Python', 'Data Structures', 'Algorithms']"
   ]
  },
  {
   "cell_type": "code",
   "execution_count": null,
   "id": "2c3de264-3f76-4f69-8705-6c94c772549f",
   "metadata": {},
   "outputs": [],
   "source": []
  },
  {
   "cell_type": "code",
   "execution_count": null,
   "id": "f496353e-c3d5-46fa-b99f-d0223001f8bb",
   "metadata": {},
   "outputs": [],
   "source": []
  }
 ],
 "metadata": {
  "kernelspec": {
   "display_name": "Python 3 (ipykernel)",
   "language": "python",
   "name": "python3"
  },
  "language_info": {
   "codemirror_mode": {
    "name": "ipython",
    "version": 3
   },
   "file_extension": ".py",
   "mimetype": "text/x-python",
   "name": "python",
   "nbconvert_exporter": "python",
   "pygments_lexer": "ipython3",
   "version": "3.13.0"
  }
 },
 "nbformat": 4,
 "nbformat_minor": 5
}
