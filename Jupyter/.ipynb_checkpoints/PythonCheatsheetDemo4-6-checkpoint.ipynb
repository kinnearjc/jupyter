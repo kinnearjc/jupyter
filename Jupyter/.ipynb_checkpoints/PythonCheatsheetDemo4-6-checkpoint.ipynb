{
 "cells": [
  {
   "cell_type": "code",
   "execution_count": null,
   "id": "89ab36e9-ff49-496b-b0b1-f38d08c93c3b",
   "metadata": {},
   "outputs": [],
   "source": [
    "#This document serves to be sort of a referrence demo to show and catalog all the python I've used so far\n",
    "#Includes Loops, Functions, (Python: Coding Challenges is a repeat of these)"
   ]
  },
  {
   "cell_type": "code",
   "execution_count": 1,
   "id": "cc745bcd-9769-4bda-a8b8-3fe55e78aa94",
   "metadata": {},
   "outputs": [
    {
     "name": "stdout",
     "output_type": "stream",
     "text": [
      "0\n",
      "254\n",
      "2\n",
      "Negative number detected!\n"
     ]
    }
   ],
   "source": [
    "#Break example, stops loop when condition met\n",
    "\n",
    "numbers = [0, 254, 2, -1, 3]\n",
    "\n",
    "for num in numbers:\n",
    "  if (num < 0):\n",
    "    print(\"Negative number detected!\")\n",
    "    break\n",
    "  print(num)\n",
    "  \n",
    "# 0\n",
    "# 254\n",
    "# 2\n",
    "# Negative number detected!"
   ]
  },
  {
   "cell_type": "code",
   "execution_count": 2,
   "id": "2be0351d-fa16-4772-8ca6-899cc1ceb956",
   "metadata": {},
   "outputs": [
    {
     "name": "stdout",
     "output_type": "stream",
     "text": [
      "[0, 4, 16, 36, 64]\n"
     ]
    }
   ],
   "source": [
    "# List comprehension for the squares of all even numbers between 0 and 9\n",
    "result = [x**2 for x in range(10) if x % 2 == 0]\n",
    "\n",
    "print(result)\n",
    "# [0, 4, 16, 36, 64]"
   ]
  },
  {
   "cell_type": "code",
   "execution_count": 4,
   "id": "77ed4cff-44a8-4d61-8d88-398475e83e1e",
   "metadata": {},
   "outputs": [
    {
     "name": "stdout",
     "output_type": "stream",
     "text": [
      "1\n",
      "2\n",
      "3\n",
      "4\n",
      "5\n"
     ]
    }
   ],
   "source": [
    "#for <temporary variable> in <list variable>:\n",
    "#  <action statement>\n",
    "#  <action statement>\n",
    " \n",
    "#each num in nums will be printed below\n",
    "nums = [1,2,3,4,5]\n",
    "for num in nums: \n",
    "  print(num)"
   ]
  },
  {
   "cell_type": "code",
   "execution_count": 5,
   "id": "7f91d217-088f-47e7-b462-cc561d199559",
   "metadata": {},
   "outputs": [
    {
     "name": "stdout",
     "output_type": "stream",
     "text": [
      "1\n",
      "2\n",
      "4\n",
      "5\n",
      "2\n"
     ]
    }
   ],
   "source": [
    "big_number_list = [1, 2, -1, 4, -5, 5, 2, -9]\n",
    "\n",
    "# Print only positive numbers:\n",
    "for i in big_number_list:\n",
    "  if i < 0:\n",
    "    continue\n",
    "  print(i)"
   ]
  },
  {
   "cell_type": "code",
   "execution_count": 6,
   "id": "564b57ce-c62c-499b-9c77-b016a5a13765",
   "metadata": {},
   "outputs": [
    {
     "name": "stdout",
     "output_type": "stream",
     "text": [
      "0\n",
      "1\n",
      "2\n",
      "WARNING\n",
      "WARNING\n",
      "WARNING\n"
     ]
    }
   ],
   "source": [
    "# Print the numbers 0, 1, 2:\n",
    "for i in range(3):\n",
    "  print(i)\n",
    "\n",
    "# Print \"WARNING\" 3 times:\n",
    "for i in range(3):\n",
    "  print(\"WARNING\")"
   ]
  },
  {
   "cell_type": "code",
   "execution_count": 8,
   "id": "92655ac1-7d85-47e0-869c-72c239849e9f",
   "metadata": {},
   "outputs": [
    {
     "name": "stdout",
     "output_type": "stream",
     "text": [
      "Time to eat!\n",
      "1\n",
      "2\n",
      "3\n",
      "4\n",
      "5\n"
     ]
    }
   ],
   "source": [
    "#While loops examples\n",
    "\n",
    "# This loop will only run 1 time\n",
    "hungry = True\n",
    "while hungry:\n",
    "  print(\"Time to eat!\")\n",
    "  hungry = False\n",
    "\n",
    "# This loop will run 5 times\n",
    "i = 1\n",
    "while i < 6:\n",
    "  print(i)\n",
    "  i = i + 1"
   ]
  },
  {
   "cell_type": "code",
   "execution_count": 9,
   "id": "ee955d65-9317-4992-9b7d-16cd56f3f324",
   "metadata": {},
   "outputs": [
    {
     "name": "stdout",
     "output_type": "stream",
     "text": [
      "Jobs\n",
      "Gates\n",
      "Newton\n",
      "Euclid\n",
      "Einstein\n",
      "Feynman\n"
     ]
    }
   ],
   "source": [
    "#Nested loop example\n",
    "\n",
    "groups = [[\"Jobs\", \"Gates\"], [\"Newton\", \"Euclid\"], [\"Einstein\", \"Feynman\"]]\n",
    "\n",
    "# This outer loop will iterate over each list in the groups list\n",
    "for group in groups:\n",
    "  # This inner loop will go through each name in each list\n",
    "  for name in group:\n",
    "    print(name)"
   ]
  },
  {
   "cell_type": "code",
   "execution_count": 10,
   "id": "f679b1f4-c00a-40b4-a084-7da1c1c217dc",
   "metadata": {},
   "outputs": [],
   "source": [
    "#Functions\n",
    "\n",
    "#Lambda Functions\n",
    "#A lambda function in Python is a simple, anonymous function that is \n",
    "# defined without a name. Lambda functions are useful when we want to \n",
    "# write a quick function in one line that can be combined with other \n",
    "# built-in functions such as map(), filter(), and apply(). This is the \n",
    "# syntax to define lambda functions:\n",
    "\n",
    "# lambda argument(s): expression"
   ]
  },
  {
   "cell_type": "code",
   "execution_count": 14,
   "id": "a108f818-e1e7-402e-ae80-71b93fdf2975",
   "metadata": {},
   "outputs": [],
   "source": [
    "#parameters example, IE character, setting, special_skill:\n",
    "\n",
    "def write_a_book(character, setting, special_skill):\n",
    "  print(character + \" is in \" + \n",
    "        setting + \" practicing her \" + \n",
    "        special_skill)"
   ]
  },
  {
   "cell_type": "code",
   "execution_count": 16,
   "id": "48f8c2bc-56b6-40cf-8d43-85c7bf26db64",
   "metadata": {},
   "outputs": [],
   "source": [
    "#Multiple parameters example:\n",
    "\n",
    "def ready_for_school(backpack, pencil_case):\n",
    "  if (backpack == 'full' and pencil_case == 'full'):\n",
    "    print (\"I'm ready for school!\")"
   ]
  },
  {
   "cell_type": "code",
   "execution_count": 17,
   "id": "1035e91e-d23b-4765-9ae8-d14c6b84b758",
   "metadata": {},
   "outputs": [
    {
     "name": "stdout",
     "output_type": "stream",
     "text": [
      "3\n",
      "9\n"
     ]
    }
   ],
   "source": [
    "#Function example:\n",
    "\n",
    "# Define a function my_function() with parameter x\n",
    "\n",
    "def my_function(x):\n",
    "  return x + 1\n",
    "\n",
    "# Invoke the function\n",
    "\n",
    "print(my_function(2))      # Output: 3\n",
    "print(my_function(3 + 5))  # Output: 9"
   ]
  },
  {
   "cell_type": "code",
   "execution_count": 19,
   "id": "e5085e25-eeb4-49a1-b9e3-3b8806829f8c",
   "metadata": {},
   "outputs": [
    {
     "name": "stdout",
     "output_type": "stream",
     "text": [
      "This is not part of testfunction\n"
     ]
    }
   ],
   "source": [
    "#Function indentation example:\n",
    "\n",
    "# Indentation is used to identify code blocks\n",
    "\n",
    "def testfunction(number):\n",
    "  # This code is part of testfunction\n",
    "  print(\"Inside the testfunction\")\n",
    "  sum = 0\n",
    "  for x in range(number):\n",
    "    # More indentation because 'for' has a code block\n",
    "    # but still part of he function\n",
    "    sum += x\n",
    "  return sum\n",
    "print(\"This is not part of testfunction\")"
   ]
  },
  {
   "cell_type": "code",
   "execution_count": null,
   "id": "a8c01d3d-583b-4175-8326-bd45224ba4c0",
   "metadata": {},
   "outputs": [],
   "source": [
    "#Calling Functions\n",
    "#Python uses simple syntax to use, invoke, or call a preexisting function. \n",
    "#A function can be called by writing the name of it, followed by parentheses.\n",
    "\n",
    "#For example, the code provided would call the doHomework() method.\n",
    "\n",
    "#doHomework()"
   ]
  },
  {
   "cell_type": "code",
   "execution_count": 21,
   "id": "71aa9dc2-1f2c-4f06-9bed-a0a9de4f953e",
   "metadata": {},
   "outputs": [
    {
     "name": "stdout",
     "output_type": "stream",
     "text": [
      "The Farmer’s Market is selling toothpaste for $1\n"
     ]
    }
   ],
   "source": [
    "#Function Argument example:\n",
    "#Arguments are the actual values of the parameters. In this example, they would\n",
    "#be \"The Farmer’s Market\", \"toothpaste\", \"$1\"\n",
    "\n",
    "\n",
    "def sales(grocery_store, item_on_sale, cost):\n",
    "  print(grocery_store + \" is selling \" + item_on_sale + \" for \" + cost) \n",
    "\n",
    "sales(\"The Farmer’s Market\", \"toothpaste\", \"$1\")"
   ]
  },
  {
   "cell_type": "code",
   "execution_count": 24,
   "id": "6a8f31e5-4b23-4252-acdb-03d6245b9777",
   "metadata": {},
   "outputs": [
    {
     "name": "stdout",
     "output_type": "stream",
     "text": [
      "Length = 1\n",
      "Width = 2\n",
      "Depth = 3\n",
      "6\n",
      "Length = 5\n",
      "Width = 4\n",
      "Depth = 2\n",
      "40\n",
      "Length = 2\n",
      "Width = 4\n",
      "Depth = 3\n",
      "24\n"
     ]
    }
   ],
   "source": [
    "#Function Keyword Arguments\n",
    "\n",
    "def findvolume(length=1, width=1, depth=1):\n",
    "  print(\"Length = \" + str(length))\n",
    "  print(\"Width = \" + str(width))\n",
    "  print(\"Depth = \" + str(depth))\n",
    "  return length * width * depth;\n",
    "\n",
    "print(findvolume(1, 2, 3))\n",
    "print(findvolume(length=5, depth=2, width=4))\n",
    "print(findvolume(2, depth=3, width=4))"
   ]
  },
  {
   "cell_type": "code",
   "execution_count": 32,
   "id": "f3a89225-ec0f-42ab-9049-7ab34527b6c6",
   "metadata": {},
   "outputs": [
    {
     "name": "stdout",
     "output_type": "stream",
     "text": [
      "9\n",
      "16\n",
      "25\n"
     ]
    }
   ],
   "source": [
    "def square_point(x, y, z):\n",
    "  x_squared = x * x\n",
    "  y_squared = y * y\n",
    "  z_squared = z * z\n",
    "  # Return all three values:\n",
    "  return x_squared, y_squared, z_squared\n",
    "\n",
    "three_squared, four_squared, five_squared = square_point(3, 4, 5)\n",
    "#the above line initializes and assigns these variables to the results of running this function\n",
    "\n",
    "print(three_squared)\n",
    "print(four_squared)\n",
    "print(five_squared)"
   ]
  },
  {
   "cell_type": "code",
   "execution_count": 33,
   "id": "06c3a792-aa98-4951-935e-ba809d32b367",
   "metadata": {},
   "outputs": [
    {
     "name": "stdout",
     "output_type": "stream",
     "text": [
      "5\n",
      "2\n"
     ]
    }
   ],
   "source": [
    "#scope example:\n",
    "\n",
    "a = 5\n",
    "\n",
    "def f1():\n",
    "  a = 2\n",
    "  print(a)\n",
    "  \n",
    "print(a)   # Will print 5\n",
    "f1()       # Will print 2"
   ]
  },
  {
   "cell_type": "code",
   "execution_count": 35,
   "id": "2db22d72-f1c8-46b4-8cf8-97ebcfef1c71",
   "metadata": {},
   "outputs": [
    {
     "name": "stdout",
     "output_type": "stream",
     "text": [
      "2018 is not a leap year.\n"
     ]
    }
   ],
   "source": [
    "#Returning Value from Function example:\n",
    "\n",
    "def check_leap_year(year): \n",
    "  if year % 4 == 0:\n",
    "    return str(year) + \" is a leap year.\"\n",
    "  else:\n",
    "    return str(year) + \" is not a leap year.\"\n",
    "\n",
    "year_to_check = 2018\n",
    "returned_value = check_leap_year(year_to_check)\n",
    "print(returned_value) # 2018 is not a leap year."
   ]
  },
  {
   "cell_type": "code",
   "execution_count": 36,
   "id": "0f9d6c56-c05c-4775-9791-4c7c03064004",
   "metadata": {},
   "outputs": [
    {
     "name": "stdout",
     "output_type": "stream",
     "text": [
      "Hello\n"
     ]
    }
   ],
   "source": [
    "#global variables example:\n",
    "\n",
    "a = \"Hello\"\n",
    "\n",
    "def prints_a():\n",
    "  print(a)\n",
    "  \n",
    "# will print \"Hello\"\n",
    "prints_a()"
   ]
  },
  {
   "cell_type": "code",
   "execution_count": 39,
   "id": "d1b460e6-85e7-435c-8034-61c5bf5a3d39",
   "metadata": {},
   "outputs": [
    {
     "name": "stdout",
     "output_type": "stream",
     "text": [
      "7\n"
     ]
    }
   ],
   "source": [
    "#Parameters as Local Variables examples:\n",
    "\n",
    "def my_function(value):\n",
    "  print(value)   \n",
    "  \n",
    "# Pass the value 7 into the function\n",
    "my_function(7) \n",
    "\n",
    "# Causes an error as `value` no longer exists\n",
    "# print(value) commented to not break code"
   ]
  },
  {
   "cell_type": "code",
   "execution_count": null,
   "id": "937d1bd1-ae0c-4eae-adcd-cf8c1fd43565",
   "metadata": {},
   "outputs": [],
   "source": []
  },
  {
   "cell_type": "code",
   "execution_count": null,
   "id": "f1238208-f006-4aba-b9b1-104e78a5332d",
   "metadata": {},
   "outputs": [],
   "source": []
  }
 ],
 "metadata": {
  "kernelspec": {
   "display_name": "Python 3 (ipykernel)",
   "language": "python",
   "name": "python3"
  },
  "language_info": {
   "codemirror_mode": {
    "name": "ipython",
    "version": 3
   },
   "file_extension": ".py",
   "mimetype": "text/x-python",
   "name": "python",
   "nbconvert_exporter": "python",
   "pygments_lexer": "ipython3",
   "version": "3.13.0"
  }
 },
 "nbformat": 4,
 "nbformat_minor": 5
}
