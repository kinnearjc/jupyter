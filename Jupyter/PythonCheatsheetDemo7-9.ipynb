{
 "cells": [
  {
   "cell_type": "code",
   "execution_count": 1,
   "id": "84c65271-df9e-4b01-8fe6-bc5f97cfd980",
   "metadata": {},
   "outputs": [],
   "source": [
    "#This document serves to be sort of a referrence demo to show and catalog all the python I've used so far\n",
    "#Includes Strings, Modules, & Dictionaries"
   ]
  },
  {
   "cell_type": "code",
   "execution_count": 4,
   "id": "191b242a-bbaf-48da-97d1-637e022589eb",
   "metadata": {},
   "outputs": [],
   "source": [
    "#Strings"
   ]
  },
  {
   "cell_type": "code",
   "execution_count": 5,
   "id": "2af82685-eab4-4b0f-a3a9-53b23252e6bc",
   "metadata": {},
   "outputs": [
    {
     "data": {
      "text/plain": [
       "'Fred tickled a fluffy hamster.'"
      ]
     },
     "execution_count": 5,
     "metadata": {},
     "output_type": "execute_result"
    }
   ],
   "source": [
    "# .format() \n",
    "\n",
    "msg1 = 'Fred scored {} out of {} points.'\n",
    "msg1.format(3, 10)\n",
    "# => 'Fred scored 3 out of 10 points.'\n",
    "\n",
    "msg2 = 'Fred {verb} a {adjective} {noun}.'\n",
    "msg2.format(adjective='fluffy', verb='tickled', noun='hamster')\n",
    "# => 'Fred tickled a fluffy hamster.'"
   ]
  },
  {
   "cell_type": "code",
   "execution_count": 6,
   "id": "7f699268-001e-4aa3-b998-68e0413647a2",
   "metadata": {},
   "outputs": [
    {
     "name": "stdout",
     "output_type": "stream",
     "text": [
      "welcome to chili's\n"
     ]
    }
   ],
   "source": [
    "# .lower()\n",
    "\n",
    "greeting = \"Welcome To Chili's\"\n",
    "\n",
    "print(greeting.lower())\n",
    "# Prints: welcome to chili's"
   ]
  },
  {
   "cell_type": "code",
   "execution_count": 13,
   "id": "117d6da6-ebe9-48d2-9bd2-37f17e938f40",
   "metadata": {},
   "outputs": [
    {
     "name": "stdout",
     "output_type": "stream",
     "text": [
      "   apples and oranges   \n",
      "...+...lemons and limes...-...\n",
      "apples and oranges\n",
      "+...lemons and limes...-\n",
      "lemons and limes...-\n",
      "lemons and limes\n"
     ]
    }
   ],
   "source": [
    "# .strip()\n",
    "\n",
    "text1 = '   apples and oranges   '\n",
    "text2 = '...+...lemons and limes...-...'\n",
    "\n",
    "print(text1)\n",
    "print(text2)\n",
    "\n",
    "print(text1.strip())       # => 'apples and oranges'\n",
    "\n",
    "# Here we strip just the \".\" characters\n",
    "print(text2.strip('.'))    # => '+...lemons and limes...-'\n",
    "\n",
    "# Here we strip both \".\" and \"+\" characters\n",
    "print(text2.strip('.+'))   # => 'lemons and limes...-'\n",
    "\n",
    "# Here we strip \".\", \"+\", and \"-\" characters\n",
    "print(text2.strip('.+-'))  # => 'lemons and limes'\n",
    "\n"
   ]
  },
  {
   "cell_type": "code",
   "execution_count": 14,
   "id": "17c58e0b-7380-47c1-8a56-51ed5e7239a5",
   "metadata": {},
   "outputs": [
    {
     "name": "stdout",
     "output_type": "stream",
     "text": [
      "Dark Knight\n"
     ]
    }
   ],
   "source": [
    "# .title(), capitilizes each word\n",
    "\n",
    "my_var = \"dark knight\"\n",
    "print(my_var.title()) \n",
    "\n",
    "# Prints: Dark Knight"
   ]
  },
  {
   "cell_type": "code",
   "execution_count": 15,
   "id": "8c51db21-1fe5-4590-b521-1acd7e520b0a",
   "metadata": {},
   "outputs": [
    {
     "name": "stdout",
     "output_type": "stream",
     "text": [
      "['Silicon', 'Valley']\n",
      "['S', 'l', 'con Valley']\n"
     ]
    }
   ],
   "source": [
    "# .split(), breaks into a list, splitting by ' ' or given character\n",
    "\n",
    "text = \"Silicon Valley\"\n",
    "\n",
    "print(text.split())     \n",
    "# Prints: ['Silicon', 'Valley']\n",
    "\n",
    "print(text.split('i'))  \n",
    "# Prints: ['S', 'l', 'con Valley']"
   ]
  },
  {
   "cell_type": "code",
   "execution_count": 16,
   "id": "4ff08e11-e9f2-44e4-a837-11c797752c7b",
   "metadata": {},
   "outputs": [
    {
     "name": "stdout",
     "output_type": "stream",
     "text": [
      "1\n"
     ]
    }
   ],
   "source": [
    "# .find(), returns first instance of character\n",
    "\n",
    "mountain_name = \"Mount Kilimanjaro\"\n",
    "print(mountain_name.find(\"o\")) # Prints 1 in the console."
   ]
  },
  {
   "cell_type": "code",
   "execution_count": 22,
   "id": "1eabc1c9-78f7-4835-b4b6-47c45102a8c8",
   "metadata": {},
   "outputs": [
    {
     "name": "stdout",
     "output_type": "stream",
     "text": [
      "StRawbeRRy\n"
     ]
    }
   ],
   "source": [
    "# .replace, replaces first char with second char\n",
    "\n",
    "fruit = \"Strawberry\"\n",
    "print(fruit.replace('r', 'R'))\n",
    "\n",
    "# StRawbeRRy"
   ]
  },
  {
   "cell_type": "code",
   "execution_count": 23,
   "id": "ecd3cdc7-fe67-4d55-8f11-31a1be67de7c",
   "metadata": {},
   "outputs": [
    {
     "name": "stdout",
     "output_type": "stream",
     "text": [
      "T-REX\n"
     ]
    }
   ],
   "source": [
    "# .upper()\n",
    "\n",
    "dinosaur = \"T-Rex\"\n",
    "\n",
    "print(dinosaur.upper()) \n",
    "# Prints: T-REX"
   ]
  },
  {
   "cell_type": "code",
   "execution_count": 24,
   "id": "0be9d176-9780-49b1-8d20-69b262efa452",
   "metadata": {},
   "outputs": [
    {
     "name": "stdout",
     "output_type": "stream",
     "text": [
      "Codecademy-is-awesome\n"
     ]
    }
   ],
   "source": [
    "# .join(), joins list into a single variable with passed \" \" seperating elements\n",
    "\n",
    "x = \"-\".join([\"Codecademy\", \"is\", \"awesome\"])\n",
    "\n",
    "print(x) \n",
    "# Prints: Codecademy-is-awesome"
   ]
  },
  {
   "cell_type": "code",
   "execution_count": 26,
   "id": "378e076f-66ea-4c24-8977-a8a6b219a867",
   "metadata": {},
   "outputs": [],
   "source": [
    "#Strings\n",
    "#In computer science, sequences of characters are referred to as strings. \n",
    "#Strings can be any length and can include any character such as letters, \n",
    "#numbers, symbols, and whitespace (spaces, tabs, new lines)."
   ]
  },
  {
   "cell_type": "code",
   "execution_count": 31,
   "id": "9d41b6a7-cf95-4b85-b486-f80b735ffd34",
   "metadata": {},
   "outputs": [
    {
     "name": "stdout",
     "output_type": "stream",
     "text": [
      "She said \"Never let go\".\n"
     ]
    }
   ],
   "source": [
    "#Escaping Characters, passes following char through, ignoring their code equivilent\n",
    "\n",
    "txt = \"She said \\\"Never let go\\\".\"\n",
    "print(txt) # She said \"Never let go\"."
   ]
  },
  {
   "cell_type": "code",
   "execution_count": null,
   "id": "919f2a93-ee0a-45b4-90af-be3263d1897b",
   "metadata": {},
   "outputs": [],
   "source": [
    "#in, checks if letter or substring is in string, returning True/False\n",
    "\n",
    "game = \"Popular Nintendo Game: Mario Kart\"\n",
    "\n",
    "print(\"l\" in game) # Prints: True\n",
    "print(\"x\" in game) # Prints: False"
   ]
  },
  {
   "cell_type": "code",
   "execution_count": 33,
   "id": "31655855-4b90-462c-8408-9a7dec6f9488",
   "metadata": {},
   "outputs": [
    {
     "name": "stdout",
     "output_type": "stream",
     "text": [
      "e\n",
      "w\n",
      "ow\n",
      "yell\n",
      "low\n"
     ]
    }
   ],
   "source": [
    "#Indexing and Slicing Strings\n",
    "#Strings are acually lists of chars so...\n",
    "\n",
    "str = 'yellow'\n",
    "print(str[1])     # => 'e'\n",
    "print(str[-1])    # => 'w'\n",
    "print(str[4:6])   # => 'ow'\n",
    "print(str[:4])    # => 'yell'\n",
    "print(str[-3:])   # => 'low'"
   ]
  },
  {
   "cell_type": "code",
   "execution_count": 34,
   "id": "181fd028-d2bb-46a4-9360-2be8cc2cb4c2",
   "metadata": {},
   "outputs": [
    {
     "name": "stdout",
     "output_type": "stream",
     "text": [
      "h\n",
      "e\n",
      "l\n",
      "l\n",
      "o\n"
     ]
    }
   ],
   "source": [
    "#iterate String\n",
    "#Since a String is a list, it can be iterated through like..\n",
    "\n",
    "str = \"hello\"\n",
    "for c in str:\n",
    "  print(c)\n",
    "  \n",
    "# h\n",
    "# e\n",
    "# l\n",
    "# l\n",
    "# o"
   ]
  },
  {
   "cell_type": "code",
   "execution_count": 35,
   "id": "feb0eaff-146f-453c-b811-86d99b87ba0e",
   "metadata": {},
   "outputs": [
    {
     "name": "stdout",
     "output_type": "stream",
     "text": [
      "5\n",
      "3\n"
     ]
    }
   ],
   "source": [
    "# .len()\n",
    "\n",
    "length = len(\"Hello\")\n",
    "print(length)\n",
    "# Output: 5\n",
    "\n",
    "colors = ['red', 'yellow', 'green']\n",
    "print(len(colors))\n",
    "# Output: 3"
   ]
  },
  {
   "cell_type": "code",
   "execution_count": 36,
   "id": "499b6bd1-3f8f-4641-98b3-8e9006749feb",
   "metadata": {},
   "outputs": [
    {
     "name": "stdout",
     "output_type": "stream",
     "text": [
      "One fish, two fish.\n"
     ]
    }
   ],
   "source": [
    "#String Concatenation\n",
    "\n",
    "x = 'One fish, '\n",
    "y = 'two fish.'\n",
    "\n",
    "z = x + y\n",
    "\n",
    "print(z)\n",
    "# Output: One fish, two fish."
   ]
  },
  {
   "cell_type": "code",
   "execution_count": null,
   "id": "387f4a89-9d1e-4ec9-b7d1-21a8ec7f0f31",
   "metadata": {},
   "outputs": [],
   "source": [
    "#Immutable strings\n",
    "#Strings are immutable in Python. This means that once a string \n",
    "#has been defined, it can’t be changed.\n",
    "\n",
    "#There are no mutating methods for strings. This is unlike data \n",
    "#types like lists, which can be modified once they are created."
   ]
  },
  {
   "cell_type": "code",
   "execution_count": 38,
   "id": "7416d7c8-f1d4-4008-ba07-5a86e871b473",
   "metadata": {},
   "outputs": [],
   "source": [
    "#IndexError\n",
    "#When indexing into a string in Python, if you try to access an \n",
    "#index that doesn’t exist, an IndexError is generated. For example, \n",
    "#the following code would create an IndexError:\n",
    "\n",
    "\n",
    "fruit = \"Berry\"\n",
    "#indx = fruit[6] commented to avoid breaking"
   ]
  },
  {
   "cell_type": "code",
   "execution_count": 39,
   "id": "cef68835-15a6-443c-bb27-5778abeaba8e",
   "metadata": {},
   "outputs": [],
   "source": [
    "#Modules"
   ]
  },
  {
   "cell_type": "code",
   "execution_count": 42,
   "id": "dbb3f468-d207-4486-840a-62928641d5b7",
   "metadata": {},
   "outputs": [
    {
     "name": "stdout",
     "output_type": "stream",
     "text": [
      "2019-02-16\n",
      "13:48:05\n",
      "2019-02-16 13:48:05\n"
     ]
    }
   ],
   "source": [
    "#Date and Time in Python\n",
    "#Note: it is best practice to import at the start of your code!\n",
    "\n",
    "\n",
    "import datetime\n",
    "feb_16_2019 = datetime.date(year=2019, month=2, day=16)\n",
    "feb_16_2019 = datetime.date(2019, 2, 16)\n",
    "print(feb_16_2019) #2019-02-16\n",
    "\n",
    "time_13_48min_5sec = datetime.time(hour=13, minute=48, second=5)\n",
    "time_13_48min_5sec = datetime.time(13, 48, 5)\n",
    "print(time_13_48min_5sec) #13:48:05\n",
    "\n",
    "timestamp= datetime.datetime(year=2019, month=2, day=16, hour=13, minute=48, second=5)\n",
    "timestamp = datetime.datetime(2019, 2, 16, 13, 48, 5)\n",
    "print (timestamp) #2019-01-02 13:48:05"
   ]
  },
  {
   "cell_type": "code",
   "execution_count": null,
   "id": "562f8f2a-564a-4b99-8e58-5b519be3c66f",
   "metadata": {},
   "outputs": [],
   "source": [
    "#Aliasing with 'as'\n",
    "\n",
    "# Aliasing matplotlib.pyplot as plt\n",
    "from matplotlib import pyplot as plt\n",
    "plt.plot(x, y)\n",
    "\n",
    "# Aliasing calendar as c\n",
    "import calendar as c\n",
    "print(c.month_name[1])"
   ]
  },
  {
   "cell_type": "code",
   "execution_count": null,
   "id": "13a03fa5-8327-4d74-bf8a-a3a05c015f3b",
   "metadata": {},
   "outputs": [],
   "source": [
    "# Three different ways to import modules:\n",
    "#Commented to avoid breaking\n",
    "\n",
    "# First way\n",
    "#import module\n",
    "#module.function()\n",
    "\n",
    "# Second way\n",
    "#from module import function\n",
    "#function()\n",
    "\n",
    "# Third way\n",
    "#from module import *\n",
    "#function()"
   ]
  },
  {
   "cell_type": "code",
   "execution_count": 44,
   "id": "e522407c-881c-4376-85b7-8272afe9034d",
   "metadata": {},
   "outputs": [
    {
     "name": "stdout",
     "output_type": "stream",
     "text": [
      "1\n",
      "b\n"
     ]
    }
   ],
   "source": [
    "# random.randint() and random.choice()\n",
    "\n",
    "import random\n",
    "\n",
    "# Returns a random integer N in a given range, such that start <= N <= end\n",
    "# random.randint(start, end)\n",
    "r1 = random.randint(0, 10)  \n",
    "print(r1) # Random integer where 0 <= r1 <= 10\n",
    "\n",
    "# Prints a random element from a sequence\n",
    "seq = [\"a\", \"b\", \"c\", \"d\", \"e\"]\n",
    "r2 = random.choice(seq)\n",
    "print(r2) # Random element in the sequence"
   ]
  },
  {
   "cell_type": "code",
   "execution_count": 46,
   "id": "1b4b1ee2-532a-4f21-912b-b05296164871",
   "metadata": {},
   "outputs": [],
   "source": [
    "#Module importing\n",
    "#Commented to avoid breaking\n",
    "#basically, how to import your own modules in the same directory as the one you\n",
    "#are using.\n",
    "\n",
    "\n",
    "# file1 content\n",
    "# def f1_function():\n",
    "#\t  return \"Hello World\"\n",
    "\n",
    "# file2\n",
    "#import file1\n",
    "\n",
    "# Now we can use f1_function, because we imported file1\n",
    "#f1_function()"
   ]
  },
  {
   "cell_type": "code",
   "execution_count": 47,
   "id": "460674e5-4e7f-47aa-a5c2-4fed94ce0d0e",
   "metadata": {},
   "outputs": [],
   "source": [
    "#Dictionaries"
   ]
  },
  {
   "cell_type": "code",
   "execution_count": 49,
   "id": "e464ab7e-01a7-4bd3-904b-75c41e64b102",
   "metadata": {},
   "outputs": [
    {
     "name": "stdout",
     "output_type": "stream",
     "text": [
      "Estranged\n",
      "Paradise City\n"
     ]
    }
   ],
   "source": [
    "#Accessing and writing data in a Python dictionary\n",
    "\n",
    "my_dictionary = {\"song\": \"Estranged\", \"artist\": \"Guns N' Roses\"}\n",
    "print(my_dictionary[\"song\"])\n",
    "my_dictionary[\"song\"] = \"Paradise City\"\n",
    "print(my_dictionary[\"song\"])"
   ]
  },
  {
   "cell_type": "code",
   "execution_count": 51,
   "id": "d4b80819-b484-4a60-b448-2e1f4a4e478a",
   "metadata": {},
   "outputs": [],
   "source": [
    "#Syntax of the Python dictionary\n",
    "#The syntax for a Python dictionary begins with the left curly brace ({),\n",
    "#ends with the right curly brace (}), and contains zero or more key : value \n",
    "#items separated by commas (,). The key is separated from the value by a \n",
    "#colon (:).\n",
    "\n",
    "\n",
    "roaster = {\"q1\": \"Ashley\", \"q2\": \"Dolly\"}"
   ]
  },
  {
   "cell_type": "code",
   "execution_count": 54,
   "id": "090ef242-d695-4539-8ebc-04471def6443",
   "metadata": {},
   "outputs": [
    {
     "name": "stdout",
     "output_type": "stream",
     "text": [
      "{'color': 'red', 'shape': 'circle', 'number': 42}\n"
     ]
    }
   ],
   "source": [
    "# .update()\n",
    "#Merges two dictionaries, updates items found, adds ones not found\n",
    "\n",
    "\n",
    "dict1 = {'color': 'blue', 'shape': 'circle'}\n",
    "dict2 = {'color': 'red', 'number': 42}\n",
    "\n",
    "dict1.update(dict2)\n",
    "# dict1 is now {'color': 'red', 'shape': 'circle', 'number': 42}\n",
    "print(dict1)"
   ]
  },
  {
   "cell_type": "code",
   "execution_count": 55,
   "id": "f8fada42-dc36-44c8-b46b-570ad6b3384a",
   "metadata": {},
   "outputs": [],
   "source": [
    "#Dictionary value types\n",
    "#Python allows the values in a dictionary to be any type – string, integer, \n",
    "#a list, another dictionary, boolean, etc. However, keys must always be an \n",
    "#immutable data type, such as strings, numbers, or tuples.\n",
    "\n",
    "#In the example code block, you can see that the keys are strings or \n",
    "#numbers (int or float). The values, on the other hand, are many varied \n",
    "#data types.\n",
    "\n",
    "dictionary = {\n",
    "  1: 'hello', \n",
    "  'two': True, \n",
    "  '3': [1, 2, 3], \n",
    "  'Four': {'fun': 'addition'}, \n",
    "  5.0: 5.5\n",
    "}"
   ]
  },
  {
   "cell_type": "code",
   "execution_count": 56,
   "id": "3c12bcfd-ae94-4441-b318-03e09bde464b",
   "metadata": {},
   "outputs": [],
   "source": [
    "#Python Dictionaries\n",
    "#an unordered collection of items. It contains data as a set of key:value pairs\n",
    "\n",
    "my_dictionary = {1: \"L.A. Lakers\", 2: \"Houston Rockets\"}"
   ]
  },
  {
   "cell_type": "code",
   "execution_count": 58,
   "id": "c28f2611-f4ac-4558-a2ad-5db265a4666c",
   "metadata": {},
   "outputs": [
    {
     "name": "stdout",
     "output_type": "stream",
     "text": [
      "dict_keys(['a', 'b', 'c'])\n",
      "dict_values(['anteater', 'bumblebee', 'cheetah'])\n",
      "dict_items([('a', 'anteater'), ('b', 'bumblebee'), ('c', 'cheetah')])\n"
     ]
    }
   ],
   "source": [
    "#Dictionary Key-Value Methods\n",
    "\n",
    "# .keys() returns the keys through a dict_keys object.\n",
    "# .values() returns the values through a dict_values object.\n",
    "# .items() returns both the keys and values through a dict_items object.\n",
    "\n",
    "ex_dict = {\"a\": \"anteater\", \"b\": \"bumblebee\", \"c\": \"cheetah\"}\n",
    "\n",
    "print(ex_dict.keys())\n",
    "# dict_keys([\"a\",\"b\",\"c\"])\n",
    "\n",
    "print(ex_dict.values())\n",
    "# dict_values([\"anteater\", \"bumblebee\", \"cheetah\"])\n",
    "\n",
    "print(ex_dict.items())\n",
    "# dict_items([(\"a\",\"anteater\"),(\"b\",\"bumblebee\"),(\"c\",\"cheetah\")])"
   ]
  },
  {
   "cell_type": "code",
   "execution_count": 59,
   "id": "ce80f389-2dea-4828-b1a6-3d20517c4000",
   "metadata": {},
   "outputs": [
    {
     "name": "stdout",
     "output_type": "stream",
     "text": [
      "Victor\n",
      "None\n",
      "nickname is not a key\n"
     ]
    }
   ],
   "source": [
    "# .get()\n",
    "\n",
    "# without default\n",
    "print({\"name\": \"Victor\"}.get(\"name\"))\n",
    "# returns \"Victor\"\n",
    "\n",
    "print({\"name\": \"Victor\"}.get(\"nickname\"))\n",
    "# returns None\n",
    "\n",
    "# with default\n",
    "print({\"name\": \"Victor\"}.get(\"nickname\", \"nickname is not a key\"))\n",
    "# returns \"nickname is not a key\""
   ]
  },
  {
   "cell_type": "code",
   "execution_count": 60,
   "id": "6a162072-dce7-4b24-8ddd-3104e3331482",
   "metadata": {},
   "outputs": [
    {
     "name": "stdout",
     "output_type": "stream",
     "text": [
      "{'Washington': 'Smithsonian Institution', 'Paris': 'Le Louvre'}\n"
     ]
    }
   ],
   "source": [
    "# .pop()\n",
    "\n",
    "famous_museums = {'Washington': 'Smithsonian Institution', 'Paris': 'Le Louvre', 'Athens': 'The Acropolis Museum'}\n",
    "famous_museums.pop('Athens')\n",
    "print(famous_museums) # {'Washington': 'Smithsonian Institution', 'Paris': 'Le Louvre'}"
   ]
  }
 ],
 "metadata": {
  "kernelspec": {
   "display_name": "Python 3 (ipykernel)",
   "language": "python",
   "name": "python3"
  },
  "language_info": {
   "codemirror_mode": {
    "name": "ipython",
    "version": 3
   },
   "file_extension": ".py",
   "mimetype": "text/x-python",
   "name": "python",
   "nbconvert_exporter": "python",
   "pygments_lexer": "ipython3",
   "version": "3.13.0"
  }
 },
 "nbformat": 4,
 "nbformat_minor": 5
}
